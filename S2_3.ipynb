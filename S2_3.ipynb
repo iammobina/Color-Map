{
  "nbformat": 4,
  "nbformat_minor": 0,
  "metadata": {
    "colab": {
      "name": "S2_3.ipynb",
      "provenance": []
    },
    "kernelspec": {
      "name": "python3",
      "display_name": "Python 3"
    }
  },
  "cells": [
    {
      "cell_type": "code",
      "metadata": {
        "id": "E3CaSAU9Iq8Y",
        "colab_type": "code",
        "colab": {
          "base_uri": "https://localhost:8080/",
          "height": 331
        },
        "outputId": "0edffbbb-2a4f-4c03-95c0-8a25d5ddbe07"
      },
      "source": [
        "import numpy as np\n",
        "from matplotlib import pyplot as plt\n",
        "from matplotlib import patches\n",
        "import subprocess as sp\n",
        "\n",
        "\n",
        "class ColorMap:\n",
        "    def __init__(self, data, iterations=1000, learningrate=0.01):\n",
        "        self.iterations = iterations\n",
        "        self.learningrate = learningrate\n",
        "        self.matrix = np.array([40, 40])\n",
        "        self.radius = max(self.matrix[0], self.matrix[1]) / 2\n",
        "        self.time_constant = iterations / np.log(self.radius)\n",
        "        self.raw_data = data\n",
        "        self.data = None\n",
        "        self.network = np.random.random((self.matrix[0], self.matrix[1], self.raw_data.shape[0]))\n",
        "\n",
        "    def calculate(self, t):\n",
        "        m = self.raw_data.shape[0]\n",
        "        element = np.array([0, 0])\n",
        "        distance = np.iinfo(np.int).max\n",
        "\n",
        "        for x in range(self.network.shape[0]):\n",
        "            for y in range(self.network.shape[1]):\n",
        "                w = self.network[x, y, :].reshape(m, 1)\n",
        "                distanceroot = np.sum((w - t) ** 2)\n",
        "                distanceroot = np.sqrt(distanceroot)\n",
        "                if distanceroot < distance:\n",
        "                    distance = distanceroot  \n",
        "                    element = np.array([x, y]) \n",
        "\n",
        "        net = self.network[element[0], element[1], :].reshape(m, 1)\n",
        "        return net, element\n",
        "\n",
        "    @staticmethod\n",
        "    def decay_radius(radius, i, time_constant):\n",
        "        return radius * np.exp(-i / time_constant)\n",
        "\n",
        "    @staticmethod\n",
        "    def decay_learningrate(initial_learningrate, i, n_iterations):\n",
        "        return initial_learningrate * np.exp(-i / n_iterations)\n",
        "\n",
        "    @staticmethod\n",
        "    def calculate_influence(distance, radius):\n",
        "        return np.exp(-distance / (2 * (radius ** 2)))\n",
        "\n",
        "    def show_iteration(self, i):\n",
        "        # sp.call('clear', shell=True)\n",
        "        print(\"iterations : \" + str(i/self.iterations*100) + \"%\")\n",
        "\n",
        "    def normalize(self):\n",
        "        data = self.raw_data\n",
        "        if True:\n",
        "            if False:\n",
        "                col_maxes = self.raw_data.max(axis=0)\n",
        "                data = self.raw_data / col_maxes[np.newaxis, :]\n",
        "            else:\n",
        "                data = self.raw_data / data.max()\n",
        "        self.data = data\n",
        "\n",
        "    def train(self):\n",
        "        for i in range(self.iterations + 1):\n",
        "            self.show_iteration(i)\n",
        "            t = self.data[:, np.random.randint(0, self.raw_data.shape[1])].reshape(np.array([self.raw_data.shape[0], 1]))\n",
        "            net, element = self.calculate(t)\n",
        "            r = self.decay_radius(self.radius, i, self.time_constant)\n",
        "            new_learningrate = self.decay_learningrate(self.learningrate, i, self.iterations)\n",
        "\n",
        "            for x in range(self.network.shape[0]):\n",
        "                for y in range(self.network.shape[1]):\n",
        "                    w = self.network[x, y, :].reshape(self.raw_data.shape[0], 1)\n",
        "                    w_dist = np.sum((np.array([x, y]) - element) ** 2)\n",
        "                    w_dist = np.sqrt(w_dist)\n",
        "\n",
        "                    if w_dist <= r:\n",
        "                        influence = self.calculate_influence(w_dist, r)\n",
        "                        new_w = w + (new_learningrate * influence * (t - w))\n",
        "                        self.network[x, y, :] = new_w.reshape(1, 3)\n",
        "\n",
        "    def show(self):\n",
        "        fig = plt.figure()\n",
        "\n",
        "        ax = fig.add_subplot(111, aspect='equal')\n",
        "        ax.set_xlim((0, self.network.shape[0] + 1))\n",
        "        ax.set_ylim((0, self.network.shape[1] + 1))\n",
        "        ax.set_title('ColorMap after %d iterations' % self.iterations)\n",
        "\n",
        "        for x in range(1, self.network.shape[0] + 1):\n",
        "            for y in range(1, self.network.shape[1] + 1):\n",
        "                ax.add_patch(patches.Rectangle((x - 0.5, y - 0.5), 1, 1,facecolor=self.network[x - 1, y - 1, :],edgecolor='none'))\n",
        "        plt.show()\n",
        "\n",
        "raw_data = np.random.randint(0, 255, (3, int(1600)))\n",
        "network = ColorMap(data=raw_data, iterations=(2))\n",
        "network.normalize()\n",
        "network.train()\n",
        "network.show()"
      ],
      "execution_count": 12,
      "outputs": [
        {
          "output_type": "stream",
          "text": [
            "iterations : 0.0%\n",
            "iterations : 50.0%\n",
            "iterations : 100.0%\n"
          ],
          "name": "stdout"
        },
        {
          "output_type": "display_data",
          "data": {
            "image/png": "[encoded data removed]",
            "text/plain": [
              "<Figure size 432x288 with 1 Axes>"
            ]
          },
          "metadata": {
            "tags": [],
            "needs_background": "light"
          }
        }
      ]
    }
  ]
}